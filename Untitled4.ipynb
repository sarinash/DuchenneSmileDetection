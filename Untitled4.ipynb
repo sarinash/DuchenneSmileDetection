{
  "nbformat": 4,
  "nbformat_minor": 0,
  "metadata": {
    "colab": {
      "name": "Untitled4.ipynb",
      "private_outputs": true,
      "provenance": [],
      "collapsed_sections": [],
      "authorship_tag": "ABX9TyOr0v/Ihd4LbFL3LPsP1MHU",
      "include_colab_link": true
    },
    "kernelspec": {
      "name": "python3",
      "display_name": "Python 3"
    },
    "language_info": {
      "name": "python"
    },
    "accelerator": "GPU"
  },
  "cells": [
    {
      "cell_type": "markdown",
      "metadata": {
        "id": "view-in-github",
        "colab_type": "text"
      },
      "source": [
        "<a href=\"https://colab.research.google.com/github/sarinash/DuchenneSmileDetection/blob/main/Untitled4.ipynb\" target=\"_parent\"><img src=\"https://colab.research.google.com/assets/colab-badge.svg\" alt=\"Open In Colab\"/></a>"
      ]
    },
    {
      "cell_type": "code",
      "metadata": {
        "id": "1zz-zmr5pwA7"
      },
      "source": [
        "import pandas as pd\n",
        "import matplotlib.pyplot as plt\n",
        "import seaborn as sns\n",
        "from mlxtend.plotting import plot_decision_regions\n",
        "from sklearn import linear_model, svm, metrics\n",
        "from sklearn.svm import SVC\n",
        "import numpy as np\n",
        "from sklearn.model_selection import train_test_split\n",
        "from sklearn.feature_selection import RFE\n",
        "from sklearn.svm import SVR\n",
        "import matplotlib.pyplot as plt\n",
        "np.seterr(divide='ignore', invalid='ignore')\n",
        "estimator = SVR(kernel=\"linear\")\n",
        "selector = RFE(estimator, n_features_to_select=5, step=1)\n",
        "df = pd.read_excel(r'Results.xlsx')\n",
        "X = df.drop('Label', axis=1)\n",
        "y = df['Label']\n",
        "selector = selector.fit(X, y)\n",
        "print(selector.support_)\n",
        "print(selector.ranking_)\n",
        "X2 = df[['OnsetNetAmplitude', 'OnsetNetAmpDurationRatio', 'ApexDurationN', 'ApexMaximumAmplitude', 'ApexMeanAmplitudeN',\n",
        "         'ApexMaximumAmplitude', 'ApexMeanAmplitude']]\n",
        "print(X2)\n",
        "print(type(X))\n",
        "X_train, X_test, y_train, y_test = train_test_split(X2, y, test_size=0.4, random_state=109)  # 70% training and 30% test\n",
        "clf = svm.SVC(kernel='linear')\n",
        "clf.fit(X_train, y_train)\n",
        "y_pred = clf.predict(X_test)\n",
        "print(\"Accuracy:\", metrics.accuracy_score(y_test, y_pred))\n",
        "# Model Precision: what percentage of positive tuples are labeled as such?\n",
        "print(\"Precision:\",metrics.precision_score(y_test, y_pred))\n",
        "\n",
        "# Model Recall: what percentage of positive tuples are labelled as such?\n",
        "print(\"Recall:\",metrics.recall_score(y_test, y_pred))\n",
        "\n",
        "   "
      ],
      "execution_count": null,
      "outputs": []
    },
    {
      "cell_type": "markdown",
      "source": [
        "# New Section"
      ],
      "metadata": {
        "id": "taD1xnpYWbQo"
      }
    }
  ]
}